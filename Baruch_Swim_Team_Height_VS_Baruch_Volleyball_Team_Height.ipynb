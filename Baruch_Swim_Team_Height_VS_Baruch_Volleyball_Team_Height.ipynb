{
  "nbformat": 4,
  "nbformat_minor": 0,
  "metadata": {
    "colab": {
      "name": "Baruch Swim Team Height VS Baruch Volleyball Team Height ",
      "provenance": [],
      "collapsed_sections": [],
      "authorship_tag": "ABX9TyOVMZUjR1DIZ1Yoq+EhYpYw",
      "include_colab_link": true
    },
    "kernelspec": {
      "name": "python3",
      "display_name": "Python 3"
    },
    "language_info": {
      "name": "python"
    }
  },
  "cells": [
    {
      "cell_type": "markdown",
      "metadata": {
        "id": "view-in-github",
        "colab_type": "text"
      },
      "source": [
        "<a href=\"https://colab.research.google.com/github/Keishan1/pythoncodes/blob/main/Baruch_Swim_Team_Height_VS_Baruch_Volleyball_Team_Height.ipynb\" target=\"_parent\"><img src=\"https://colab.research.google.com/assets/colab-badge.svg\" alt=\"Open In Colab\"/></a>"
      ]
    },
    {
      "cell_type": "markdown",
      "metadata": {
        "id": "zO3yDLecuwFL"
      },
      "source": [
        "# <center>Keishan martin </center>\n",
        "#<h4 align=\"center\">October 16, 2021</h3> \n",
        "#<h4 align=\"center\">Explanation : *(Checking to see if Baruch's Swimming team is taller than Baruch's Volleyball Team )* </h3> \n",
        "___"
      ]
    },
    {
      "cell_type": "code",
      "metadata": {
        "id": "DmOinjWWu5H2"
      },
      "source": [
        "#import the request library\n",
        "import requests\n",
        "from bs4 import BeautifulSoup"
      ],
      "execution_count": null,
      "outputs": []
    },
    {
      "cell_type": "code",
      "metadata": {
        "id": "XAB_UNtEu-SF"
      },
      "source": [
        "#defined the function definition to take one parameter 'URL'\n",
        "def find_average_height (URL):\n",
        "\n",
        "  page = requests.get(URL)\n",
        "\n",
        "  soup = BeautifulSoup(page.content, 'html.parser')\n",
        "\n",
        "  #find all td tags with the class name equal to height \n",
        "  table = soup.find_all('td', {'class':'height'})\n",
        "  \n",
        "\n",
        "  team_heights = []\n",
        "\n",
        "  #inspect every value thats in the variable table & \n",
        "  #assign it to the variable feet if when sliced it's the 1st index in that item \n",
        "  #then turn it into a integer and multiply it by 12 since 1ft = 12inches\n",
        "  #other wise assign it to the variable inches if when sliced it's the 3rd index or anything after in that item, in this case there's nothing after \n",
        "  #then turn it into a integer and multiply \n",
        "  #Next centimeters becomes what you get when feet & inches are added \n",
        "  #so create a new list called team_heights that will be a list of all the variables of centimeters\n",
        "  for table in table:\n",
        "    feet = (int(table.get_text()[0:1])) * 12\n",
        "    inches = (int(table.get_text()[2:])) \n",
        "    total_inches = feet + inches \n",
        "    team_heights.append(total_inches)\n",
        "  \n",
        "  #find the average of the heights of each team,and round 2 decimal places\n",
        "  return (format(sum(team_heights)/len(team_heights),'.2f'))\n"
      ],
      "execution_count": null,
      "outputs": []
    },
    {
      "cell_type": "code",
      "metadata": {
        "id": "iz9aA7sJvEsr"
      },
      "source": [
        "#Called the function definition for each team website\n",
        "men_swim_height = find_average_height ('https://athletics.baruch.cuny.edu/sports/mens-swimming-and-diving/roster')\n",
        "men_volleyball_height = find_average_height ('https://athletics.baruch.cuny.edu/sports/mens-volleyball/roster')\n",
        "women_swim_height = find_average_height ('https://athletics.baruch.cuny.edu/sports/womens-swimming-and-diving/roster')\n",
        "women_volleyball_height = find_average_height ('https://athletics.baruch.cuny.edu/sports/womens-volleyball/roster')"
      ],
      "execution_count": null,
      "outputs": []
    },
    {
      "cell_type": "code",
      "metadata": {
        "colab": {
          "base_uri": "https://localhost:8080/"
        },
        "id": "HoUVBsHFvFfW",
        "outputId": "784af2e5-6df7-450e-ba9e-a3bdf19bd01e"
      },
      "source": [
        "#print the average of each team\n",
        "print(\"The average height of Baruch's men's swimming Team is:\", men_swim_height,'inches tall')\n",
        "print(\"The average height of Baruch's men's volleyball Team is:\", men_volleyball_height,'inches tall')\n",
        "print(\"The average height of Baruch's Women's swimming Team is:\", women_swim_height,'inches tall')\n",
        "print(\"The average height of Baruch's Women's volleyball Team is:\",women_volleyball_height,'inches tall')"
      ],
      "execution_count": null,
      "outputs": [
        {
          "output_type": "stream",
          "name": "stdout",
          "text": [
            "The average height of Baruch's men's swimming Team is: 71.27 inches tall\n",
            "The average height of Baruch's men's volleyball Team is: 73.53 inches tall\n",
            "The average height of Baruch's Women's swimming Team is: 64.00 inches tall\n",
            "The average height of Baruch's Women's volleyball Team is: 65.33 inches tall\n"
          ]
        }
      ]
    },
    {
      "cell_type": "code",
      "metadata": {
        "colab": {
          "base_uri": "https://localhost:8080/"
        },
        "id": "tdlfxpqJvKvW",
        "outputId": "5a1b1c7d-f159-476c-ee31-06e037526e03"
      },
      "source": [
        "#if statement to return the taller  team \n",
        "if (men_swim_height > men_volleyball_height):\n",
        "  print(\"The Baruch men's swimming team on average is taller than the men's volleyball team\")\n",
        "else:\n",
        "  print(\"The Baruch men's volleyball team on average is taller than the men's swim team\")\n",
        "\n",
        "if (women_swim_height > women_volleyball_height):\n",
        "  print(\"The Baruch women's swimming team on average is taller than the women's volleyball team\")\n",
        "else:\n",
        "  print(\"The Baruch wommen's volleyball team on average is taller than the women's swim team\")\n",
        "\n",
        "\n",
        "if (men_swim_height > men_volleyball_height):\n",
        "  if (women_swim_height > women_volleyball_height):\n",
        "    print(\"The Baruch swimming team on average is taller than the volleyball team\")\n",
        "else:\n",
        "  print(\"The Baruch volleyball team on average is taller than the swim team\") "
      ],
      "execution_count": null,
      "outputs": [
        {
          "output_type": "stream",
          "name": "stdout",
          "text": [
            "The Baruch men's volleyball team on average is taller than the men's swim team\n",
            "The Baruch wommen's volleyball team on average is taller than the women's swim team\n",
            "The Baruch volleyball team on average is taller than the swim team\n"
          ]
        }
      ]
    }
  ]
}